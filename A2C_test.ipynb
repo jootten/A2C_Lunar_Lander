{
 "cells": [
  {
   "cell_type": "markdown",
   "metadata": {},
   "source": [
    "# A2C - CartPole\n",
    "Implementation of the A2C RL Algorithm for the OpenAI's Gym environment CartPole-V1 (not in parallel)."
   ]
  },
  {
   "cell_type": "code",
   "execution_count": null,
   "metadata": {},
   "outputs": [],
   "source": []
  },
  {
   "cell_type": "code",
   "execution_count": 2,
   "metadata": {},
   "outputs": [],
   "source": [
    "# Import libraries\n",
    "import numpy as np\n",
    "import matplotlib.pyplot as pd\n",
    "\n",
    "import tensorflow as tf\n",
    "\n",
    "import gym"
   ]
  },
  {
   "cell_type": "code",
   "execution_count": 9,
   "metadata": {},
   "outputs": [],
   "source": [
    "# state-value function estimator\n",
    "\n",
    "class V_Model(tf.keras.layers.Layer):\n",
    "    \n",
    "    def __init__(self):\n",
    "        super(V_Model, self).__init__()\n",
    "        self.fc1 = tf.keras.layers.Dense(units=16, input_shape=[4], activation='sigmoid')\n",
    "        self.fc2 = tf.keras.layers.Dense(units=8, activation='sigmoid')\n",
    "        self.out = tf.keras.layers.Dense(units=1, activation='sigmoid')\n",
    "        \n",
    "    def call(self, x):\n",
    "        x = self.fc1(x)\n",
    "        x = self.fc2(x)\n",
    "        return self.out(x)"
   ]
  },
  {
   "cell_type": "code",
   "execution_count": null,
   "metadata": {},
   "outputs": [],
   "source": [
    "# policy function estimator\n",
    "\n",
    "class P_Model(tf.keras.layers.Layer):\n",
    "    \n",
    "    def __inti__(self):\n",
    "        super(P_Model, self).__init__()\n",
    "        self.fc1 = tf.keras.layers.Dense(units=16, input_shape=[4], activation='sigmoid')\n",
    "        self.fc2 = tf.keras.layers.Dense(units=8, activation='sigmoid')\n",
    "        self.out = tf.keras.layers.Dense(units=1, activation='sigmoid')"
   ]
  },
  {
   "cell_type": "code",
   "execution_count": 10,
   "metadata": {},
   "outputs": [],
   "source": [
    "# set up environment\n",
    "env = gym.make('CartPole-v1')\n",
    "\n",
    "# create two networks: one for the state-value, the other one for the poilcy\n",
    "v_network = V_Model()\n",
    "p_network = P_Model()\n",
    "\n",
    "# create optimizer for both networks and and MSE as loss function\n",
    "v_optimizer = tf.keras.optimizers.Adam()\n",
    "p_optimizer = tf.keras.optimizers.Adam()\n",
    "mse = tf.keras.losses.MSE\n",
    "\n",
    "# initialize empty list to store memory, which will be used to train the network\n",
    "observations = []\n",
    "\n",
    "# hyperparameters\n",
    "n_episodes = 20\n",
    "discount = 0.92\n",
    "max_steps = 300\n",
    "\n",
    "# train for n episodes\n",
    "for ith_episode in range(n_episodes):\n",
    "    \n",
    "    # reset the env for each new episode and store the starting state\n",
    "    state = env.reset()\n",
    "    \n",
    "    # build the episode for max_steps steps or until the agent fails\n",
    "    for t in range(max_steps):\n",
    "        # get the next action from the policy network\n",
    "        state = np.reshape(state, [1,4])\n",
    "        action = 1 if p_network(state) >= 0 else 0\n",
    "        # perform sampled action and store observation\n",
    "        next_state, reward, terminal, info = env.step(action)\n",
    "        obersvation.append((state, action, reward))\n",
    "        # next time step starts from new state\n",
    "        state = next_state\n",
    "        \n",
    "        # terminate episode when agent fails\n",
    "        if terminal:\n",
    "            break\n",
    "            \n",
    "    \n",
    "    # after one episode terminated use the oberservations made to train both networks\n",
    "    \n",
    "    # accumulated estimated return starts with zero if the agent failed, else the state value of the last state\n",
    "    estimated_return = 0 if terminal else v_network(np.reshape(state, [1,4]))\n",
    "    \n",
    "    \n",
    "        \n",
    "\n",
    "\n",
    "\n"
   ]
  },
  {
   "cell_type": "code",
   "execution_count": 13,
   "metadata": {},
   "outputs": [
    {
     "data": {
      "text/plain": [
       "0"
      ]
     },
     "execution_count": 13,
     "metadata": {},
     "output_type": "execute_result"
    }
   ],
   "source": [
    "int(-0.5)"
   ]
  },
  {
   "cell_type": "code",
   "execution_count": 32,
   "metadata": {},
   "outputs": [
    {
     "name": "stdout",
     "output_type": "stream",
     "text": [
      "0\n"
     ]
    }
   ],
   "source": [
    "# Set up the environment\n",
    "env = gym.make('CartPole-v1')\n",
    "\n",
    "print(env.action_space.sample())\n",
    "\n",
    "# for _ in range(10):\n",
    "#     env.reset()\n",
    "#     for i in range(100):\n",
    "#         env.render()\n",
    "#         env.step(env.action_space.sample())\n",
    "        \n",
    "# env.close()"
   ]
  }
 ],
 "metadata": {
  "kernelspec": {
   "display_name": "Python 3",
   "language": "python",
   "name": "python3"
  },
  "language_info": {
   "codemirror_mode": {
    "name": "ipython",
    "version": 3
   },
   "file_extension": ".py",
   "mimetype": "text/x-python",
   "name": "python",
   "nbconvert_exporter": "python",
   "pygments_lexer": "ipython3",
   "version": "3.7.5"
  }
 },
 "nbformat": 4,
 "nbformat_minor": 2
}
