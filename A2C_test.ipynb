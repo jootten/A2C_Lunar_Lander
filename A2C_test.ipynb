{
 "cells": [
  {
   "cell_type": "markdown",
   "metadata": {},
   "source": [
    "# A2C - CartPole\n",
    "Implementation of the A2C RL Algorithm for the OpenAI's Gym environment CartPole-V1 (not in parallel)."
   ]
  },
  {
   "cell_type": "code",
   "execution_count": 4,
   "metadata": {},
   "outputs": [],
   "source": [
    "# Import libraries\n",
    "import numpy as np\n",
    "import matplotlib.pyplot as plot\n",
    "\n",
    "import tensorflow as tf\n",
    "\n",
    "import gym"
   ]
  },
  {
   "cell_type": "code",
   "execution_count": 18,
   "metadata": {},
   "outputs": [],
   "source": [
    "# Set up the environment\n",
    "env = gym.make('CartPole-v0')\n",
    "env.reset()\n",
    "for _ in range(100):\n",
    "   env.render()\n",
    "   env.step(env.action_space.sample()) # take a random action\n",
    "env.close()"
   ]
  },
  {
   "cell_type": "code",
   "execution_count": 17,
   "metadata": {},
   "outputs": [
    {
     "ename": "SyntaxError",
     "evalue": "positional argument follows keyword argument (<ipython-input-17-1de310187a15>, line 10)",
     "output_type": "error",
     "traceback": [
      "\u001b[0;36m  File \u001b[0;32m\"<ipython-input-17-1de310187a15>\"\u001b[0;36m, line \u001b[0;32m10\u001b[0m\n\u001b[0;31m    metrics['accuracy'])\u001b[0m\n\u001b[0m    ^\u001b[0m\n\u001b[0;31mSyntaxError\u001b[0m\u001b[0;31m:\u001b[0m positional argument follows keyword argument\n"
     ]
    }
   ],
   "source": [
    "from tensorflow.keras.layers import Layer\n",
    "\n",
    "relu = tf.keras.activations.relu\n"
   ]
  },
  {
   "cell_type": "code",
   "execution_count": 19,
   "metadata": {},
   "outputs": [
    {
     "name": "stdout",
     "output_type": "stream",
     "text": [
      "Requirement already satisfied: gym[all] in /opt/miniconda3/lib/python3.7/site-packages (0.16.0)\n",
      "Requirement already satisfied: six in /opt/miniconda3/lib/python3.7/site-packages (from gym[all]) (1.12.0)\n",
      "Requirement already satisfied: cloudpickle~=1.2.0 in /opt/miniconda3/lib/python3.7/site-packages (from gym[all]) (1.2.2)\n",
      "Requirement already satisfied: pyglet<=1.5.0,>=1.4.0 in /opt/miniconda3/lib/python3.7/site-packages (from gym[all]) (1.4.10)\n",
      "Requirement already satisfied: scipy in /opt/miniconda3/lib/python3.7/site-packages (from gym[all]) (1.4.1)\n",
      "Requirement already satisfied: numpy>=1.10.4 in /opt/miniconda3/lib/python3.7/site-packages (from gym[all]) (1.18.0)\n",
      "Collecting imageio; extra == \"all\"\n",
      "\u001b[?25l  Downloading https://files.pythonhosted.org/packages/4c/2b/9dd19644f871b10f7e32eb2dbd6b45149c350b4d5f2893e091b882e03ab7/imageio-2.8.0-py3-none-any.whl (3.3MB)\n",
      "\u001b[K     |████████████████████████████████| 3.3MB 307kB/s eta 0:00:01\n",
      "\u001b[?25hCollecting opencv-python; extra == \"all\"\n",
      "\u001b[?25l  Downloading https://files.pythonhosted.org/packages/68/81/20771fab16b8ccd5f642a44ef355e274075754dc002b5d6f6e9779e715d8/opencv_python-4.2.0.32-cp37-cp37m-macosx_10_9_x86_64.whl (47.9MB)\n",
      "\u001b[K     |████████████████████████████████| 47.9MB 87kB/s  eta 0:00:01\n",
      "\u001b[?25hCollecting mujoco-py<2.0,>=1.50; extra == \"all\"\n",
      "\u001b[?25l  Downloading https://files.pythonhosted.org/packages/cf/8c/64e0630b3d450244feef0688d90eab2448631e40ba6bdbd90a70b84898e7/mujoco-py-1.50.1.68.tar.gz (120kB)\n",
      "\u001b[K     |████████████████████████████████| 122kB 103kB/s eta 0:00:01\n",
      "\u001b[?25hCollecting atari-py~=0.2.0; extra == \"all\"\n",
      "\u001b[?25l  Downloading https://files.pythonhosted.org/packages/f9/bb/b01e780ac5abc41f41b37faeaa005fcdabffe37713d943f86190305c8294/atari_py-0.2.6-cp37-cp37m-macosx_10_6_intel.macosx_10_9_intel.macosx_10_9_x86_64.macosx_10_10_intel.macosx_10_10_x86_64.whl (3.5MB)\n",
      "\u001b[K     |████████████████████████████████| 3.5MB 1.7MB/s eta 0:00:01\n",
      "\u001b[?25hCollecting box2d-py~=2.3.5; extra == \"all\"\n",
      "\u001b[?25l  Downloading https://files.pythonhosted.org/packages/02/a8/f6f6986fe3c8f53ef8ddf7ac73ec7f87e45b0beccce8067194fa8d658a07/box2d_py-2.3.8-cp37-cp37m-macosx_10_6_intel.macosx_10_9_intel.macosx_10_9_x86_64.macosx_10_10_intel.macosx_10_10_x86_64.whl (940kB)\n",
      "\u001b[K     |████████████████████████████████| 942kB 1.8MB/s eta 0:00:01\n",
      "\u001b[?25hCollecting Pillow; extra == \"all\"\n",
      "\u001b[?25l  Downloading https://files.pythonhosted.org/packages/0c/43/b52847e473ac6cbd10a749b63018b2bb08b55c6e1a1923872361443906de/Pillow-7.0.0-cp37-cp37m-macosx_10_6_intel.whl (3.9MB)\n",
      "\u001b[K     |████████████████████████████████| 3.9MB 2.3MB/s eta 0:00:01\n",
      "\u001b[?25hRequirement already satisfied: future in /opt/miniconda3/lib/python3.7/site-packages (from pyglet<=1.5.0,>=1.4.0->gym[all]) (0.18.2)\n",
      "Collecting glfw>=1.4.0\n",
      "\u001b[?25l  Downloading https://files.pythonhosted.org/packages/52/75/6c5dd3b6cf4ee7e5ce818d5baadd51fee1814710139563c4a426d45c0c73/glfw-1.11.0-py2.py27.py3.py30.py31.py32.py33.py34.py35.py36.py37.py38-none-macosx_10_6_intel.whl (100kB)\n",
      "\u001b[K     |████████████████████████████████| 102kB 2.5MB/s ta 0:00:01\n",
      "\u001b[?25hCollecting Cython>=0.27.2\n",
      "\u001b[?25l  Downloading https://files.pythonhosted.org/packages/93/b8/f428f1d6a52c475fc0a547652b96421744cc036dbb0edcee0c85cf32dea1/Cython-0.29.15-cp37-cp37m-macosx_10_9_x86_64.whl (1.9MB)\n",
      "\u001b[K     |████████████████████████████████| 1.9MB 1.3MB/s eta 0:00:01\n",
      "\u001b[?25hRequirement already satisfied: cffi>=1.10 in /opt/miniconda3/lib/python3.7/site-packages (from mujoco-py<2.0,>=1.50; extra == \"all\"->gym[all]) (1.13.0)\n",
      "Collecting lockfile>=0.12.2\n",
      "  Downloading https://files.pythonhosted.org/packages/c8/22/9460e311f340cb62d26a38c419b1381b8593b0bb6b5d1f056938b086d362/lockfile-0.12.2-py2.py3-none-any.whl\n",
      "Requirement already satisfied: pycparser in /opt/miniconda3/lib/python3.7/site-packages (from cffi>=1.10->mujoco-py<2.0,>=1.50; extra == \"all\"->gym[all]) (2.19)\n",
      "Building wheels for collected packages: mujoco-py\n",
      "  Building wheel for mujoco-py (setup.py) ... \u001b[?25lerror\n",
      "\u001b[31m  ERROR: Command errored out with exit status 1:\n",
      "   command: /opt/miniconda3/bin/python -u -c 'import sys, setuptools, tokenize; sys.argv[0] = '\"'\"'/private/var/folders/jf/tqb248c95kl2zz3bft_8ncnr0000gn/T/pip-install-1mwz0lv_/mujoco-py/setup.py'\"'\"'; __file__='\"'\"'/private/var/folders/jf/tqb248c95kl2zz3bft_8ncnr0000gn/T/pip-install-1mwz0lv_/mujoco-py/setup.py'\"'\"';f=getattr(tokenize, '\"'\"'open'\"'\"', open)(__file__);code=f.read().replace('\"'\"'\\r\\n'\"'\"', '\"'\"'\\n'\"'\"');f.close();exec(compile(code, __file__, '\"'\"'exec'\"'\"'))' bdist_wheel -d /private/var/folders/jf/tqb248c95kl2zz3bft_8ncnr0000gn/T/pip-wheel-x12xursj --python-tag cp37\n",
      "       cwd: /private/var/folders/jf/tqb248c95kl2zz3bft_8ncnr0000gn/T/pip-install-1mwz0lv_/mujoco-py/\n",
      "  Complete output (27 lines):\n",
      "  running bdist_wheel\n",
      "  running build\n",
      "  Traceback (most recent call last):\n",
      "    File \"<string>\", line 1, in <module>\n",
      "    File \"/private/var/folders/jf/tqb248c95kl2zz3bft_8ncnr0000gn/T/pip-install-1mwz0lv_/mujoco-py/setup.py\", line 44, in <module>\n",
      "      tests_require=read_requirements_file('requirements.dev.txt'),\n",
      "    File \"/opt/miniconda3/lib/python3.7/site-packages/setuptools/__init__.py\", line 145, in setup\n",
      "      return distutils.core.setup(**attrs)\n",
      "    File \"/opt/miniconda3/lib/python3.7/distutils/core.py\", line 148, in setup\n",
      "      dist.run_commands()\n",
      "    File \"/opt/miniconda3/lib/python3.7/distutils/dist.py\", line 966, in run_commands\n",
      "      self.run_command(cmd)\n",
      "    File \"/opt/miniconda3/lib/python3.7/distutils/dist.py\", line 985, in run_command\n",
      "      cmd_obj.run()\n",
      "    File \"/opt/miniconda3/lib/python3.7/site-packages/wheel/bdist_wheel.py\", line 192, in run\n",
      "      self.run_command('build')\n",
      "    File \"/opt/miniconda3/lib/python3.7/distutils/cmd.py\", line 313, in run_command\n",
      "      self.distribution.run_command(command)\n",
      "    File \"/opt/miniconda3/lib/python3.7/distutils/dist.py\", line 985, in run_command\n",
      "      cmd_obj.run()\n",
      "    File \"/private/var/folders/jf/tqb248c95kl2zz3bft_8ncnr0000gn/T/pip-install-1mwz0lv_/mujoco-py/setup.py\", line 28, in run\n",
      "      import mujoco_py  # noqa: force build\n",
      "    File \"/private/var/folders/jf/tqb248c95kl2zz3bft_8ncnr0000gn/T/pip-install-1mwz0lv_/mujoco-py/mujoco_py/__init__.py\", line 3, in <module>\n",
      "      from mujoco_py.builder import cymj, ignore_mujoco_warnings, functions, MujocoException\n",
      "    File \"/private/var/folders/jf/tqb248c95kl2zz3bft_8ncnr0000gn/T/pip-install-1mwz0lv_/mujoco-py/mujoco_py/builder.py\", line 17, in <module>\n",
      "      from Cython.Build import cythonize\n",
      "  ModuleNotFoundError: No module named 'Cython'\n",
      "  ----------------------------------------\u001b[0m\n",
      "\u001b[31m  ERROR: Failed building wheel for mujoco-py\u001b[0m\n",
      "\u001b[?25h  Running setup.py clean for mujoco-py\n",
      "Failed to build mujoco-py\n",
      "Installing collected packages: Pillow, imageio, opencv-python, glfw, Cython, lockfile, mujoco-py, atari-py, box2d-py\n",
      "    Running setup.py install for mujoco-py ... \u001b[?25lerror\n",
      "\u001b[31m    ERROR: Command errored out with exit status 1:\n",
      "     command: /opt/miniconda3/bin/python -u -c 'import sys, setuptools, tokenize; sys.argv[0] = '\"'\"'/private/var/folders/jf/tqb248c95kl2zz3bft_8ncnr0000gn/T/pip-install-1mwz0lv_/mujoco-py/setup.py'\"'\"'; __file__='\"'\"'/private/var/folders/jf/tqb248c95kl2zz3bft_8ncnr0000gn/T/pip-install-1mwz0lv_/mujoco-py/setup.py'\"'\"';f=getattr(tokenize, '\"'\"'open'\"'\"', open)(__file__);code=f.read().replace('\"'\"'\\r\\n'\"'\"', '\"'\"'\\n'\"'\"');f.close();exec(compile(code, __file__, '\"'\"'exec'\"'\"'))' install --record /private/var/folders/jf/tqb248c95kl2zz3bft_8ncnr0000gn/T/pip-record-no2x2b2g/install-record.txt --single-version-externally-managed --compile\n",
      "         cwd: /private/var/folders/jf/tqb248c95kl2zz3bft_8ncnr0000gn/T/pip-install-1mwz0lv_/mujoco-py/\n",
      "    Complete output (56 lines):\n",
      "    running install\n",
      "    running build\n",
      "    \n",
      "    You appear to be missing MuJoCo.  We expected to find the file here: /Users/Alex/.mujoco/mjpro150\n",
      "    \n",
      "    This package only provides python bindings, the library must be installed separately.\n",
      "    \n",
      "    Please follow the instructions on the README to install MuJoCo\n",
      "    \n",
      "        https://github.com/openai/mujoco-py#install-mujoco\n",
      "    \n",
      "    Which can be downloaded from the website\n",
      "    \n",
      "        https://www.roboti.us/index.html\n",
      "    \n",
      "    Traceback (most recent call last):\n",
      "      File \"<string>\", line 1, in <module>\n",
      "      File \"/private/var/folders/jf/tqb248c95kl2zz3bft_8ncnr0000gn/T/pip-install-1mwz0lv_/mujoco-py/setup.py\", line 44, in <module>\n",
      "        tests_require=read_requirements_file('requirements.dev.txt'),\n",
      "      File \"/opt/miniconda3/lib/python3.7/site-packages/setuptools/__init__.py\", line 145, in setup\n",
      "        return distutils.core.setup(**attrs)\n",
      "      File \"/opt/miniconda3/lib/python3.7/distutils/core.py\", line 148, in setup\n",
      "        dist.run_commands()\n",
      "      File \"/opt/miniconda3/lib/python3.7/distutils/dist.py\", line 966, in run_commands\n",
      "        self.run_command(cmd)\n",
      "      File \"/opt/miniconda3/lib/python3.7/distutils/dist.py\", line 985, in run_command\n",
      "        cmd_obj.run()\n",
      "      File \"/opt/miniconda3/lib/python3.7/site-packages/setuptools/command/install.py\", line 61, in run\n",
      "        return orig.install.run(self)\n",
      "      File \"/opt/miniconda3/lib/python3.7/distutils/command/install.py\", line 545, in run\n",
      "        self.run_command('build')\n",
      "      File \"/opt/miniconda3/lib/python3.7/distutils/cmd.py\", line 313, in run_command\n",
      "        self.distribution.run_command(command)\n",
      "      File \"/opt/miniconda3/lib/python3.7/distutils/dist.py\", line 985, in run_command\n",
      "        cmd_obj.run()\n",
      "      File \"/private/var/folders/jf/tqb248c95kl2zz3bft_8ncnr0000gn/T/pip-install-1mwz0lv_/mujoco-py/setup.py\", line 28, in run\n",
      "        import mujoco_py  # noqa: force build\n",
      "      File \"/private/var/folders/jf/tqb248c95kl2zz3bft_8ncnr0000gn/T/pip-install-1mwz0lv_/mujoco-py/mujoco_py/__init__.py\", line 3, in <module>\n",
      "        from mujoco_py.builder import cymj, ignore_mujoco_warnings, functions, MujocoException\n",
      "      File \"/private/var/folders/jf/tqb248c95kl2zz3bft_8ncnr0000gn/T/pip-install-1mwz0lv_/mujoco-py/mujoco_py/builder.py\", line 502, in <module>\n",
      "        mjpro_path, key_path = discover_mujoco()\n",
      "      File \"/private/var/folders/jf/tqb248c95kl2zz3bft_8ncnr0000gn/T/pip-install-1mwz0lv_/mujoco-py/mujoco_py/utils.py\", line 93, in discover_mujoco\n",
      "        raise Exception(message)\n",
      "    Exception:\n",
      "    You appear to be missing MuJoCo.  We expected to find the file here: /Users/Alex/.mujoco/mjpro150\n",
      "    \n",
      "    This package only provides python bindings, the library must be installed separately.\n",
      "    \n",
      "    Please follow the instructions on the README to install MuJoCo\n",
      "    \n",
      "        https://github.com/openai/mujoco-py#install-mujoco\n",
      "    \n",
      "    Which can be downloaded from the website\n",
      "    \n",
      "        https://www.roboti.us/index.html\n",
      "    \n",
      "    ----------------------------------------\u001b[0m\n"
     ]
    },
    {
     "name": "stdout",
     "output_type": "stream",
     "text": [
      "\u001b[31mERROR: Command errored out with exit status 1: /opt/miniconda3/bin/python -u -c 'import sys, setuptools, tokenize; sys.argv[0] = '\"'\"'/private/var/folders/jf/tqb248c95kl2zz3bft_8ncnr0000gn/T/pip-install-1mwz0lv_/mujoco-py/setup.py'\"'\"'; __file__='\"'\"'/private/var/folders/jf/tqb248c95kl2zz3bft_8ncnr0000gn/T/pip-install-1mwz0lv_/mujoco-py/setup.py'\"'\"';f=getattr(tokenize, '\"'\"'open'\"'\"', open)(__file__);code=f.read().replace('\"'\"'\\r\\n'\"'\"', '\"'\"'\\n'\"'\"');f.close();exec(compile(code, __file__, '\"'\"'exec'\"'\"'))' install --record /private/var/folders/jf/tqb248c95kl2zz3bft_8ncnr0000gn/T/pip-record-no2x2b2g/install-record.txt --single-version-externally-managed --compile Check the logs for full command output.\u001b[0m\n",
      "\u001b[?25h"
     ]
    }
   ],
   "source": [
    "!pip install 'gym[all]'"
   ]
  },
  {
   "cell_type": "code",
   "execution_count": null,
   "metadata": {},
   "outputs": [],
   "source": []
  }
 ],
 "metadata": {
  "kernelspec": {
   "display_name": "Python 3",
   "language": "python",
   "name": "python3"
  },
  "language_info": {
   "codemirror_mode": {
    "name": "ipython",
    "version": 3
   },
   "file_extension": ".py",
   "mimetype": "text/x-python",
   "name": "python",
   "nbconvert_exporter": "python",
   "pygments_lexer": "ipython3",
   "version": "3.7.4"
  }
 },
 "nbformat": 4,
 "nbformat_minor": 2
}
